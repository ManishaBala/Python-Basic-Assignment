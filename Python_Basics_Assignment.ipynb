{
  "nbformat": 4,
  "nbformat_minor": 0,
  "metadata": {
    "colab": {
      "provenance": []
    },
    "kernelspec": {
      "name": "python3",
      "display_name": "Python 3"
    },
    "language_info": {
      "name": "python"
    }
  },
  "cells": [
    {
      "cell_type": "markdown",
      "source": [
        "#Python Basics Assignment"
      ],
      "metadata": {
        "id": "wY-y8owuQd8B"
      }
    },
    {
      "cell_type": "markdown",
      "source": [
        "###1. Explain the key features of Python that make it a popular choice for programming.\n",
        "\n",
        "-> The key features of python that make it a popular choice for programming are:\n",
        "\n",
        " - It is easy to read and understand. Its code is similar to plain English,\n",
        "\n",
        "  making it beginner-friendly.\n",
        " -It is versatile as it can be used for a wide range of applications,including\n",
        "  web development, machine learning and many more.\n",
        " - It has a lot of libraries. Python includes a vast standard library and thousands of third-party libraries.\n",
        " - It has huge active community.Python has a vast global community.\n",
        "  Help, tutorials, and solutions are easily available online.\n",
        " - Its readability and simplicity.\n",
        " - It has Cross-Platform Compatibility,that a programming language or application can run on multiple operating systems (such as Windows, macOS, and Linux) without needing to change the source code.\n",
        "\n",
        "\n"
      ],
      "metadata": {
        "id": "ZhlXXgxRQ8sx"
      }
    },
    {
      "cell_type": "markdown",
      "source": [
        " ### 2. Describe the role of predefined keywords in Python and provide examples of how they are used in a program.\n",
        "\n",
        " ->Predefined keywords (also known as reserved keywords) are special words that are reserved by the language for specific purposes. These keywords are part of Python's syntax and cannot be used as identifiers such as variable names, function names, or class names.\n",
        " Keywords are case-sensitive and cannot be redefined or overridden within a Python program.\n",
        "\n",
        "Examples of keywords are if, else, while, for, def, class, import, try, except, return, True, False, None, etc that are used in a program.\n"
      ],
      "metadata": {
        "id": "M-3xbFco3pYl"
      }
    },
    {
      "cell_type": "code",
      "source": [
        "#Examples of python keywords"
      ],
      "metadata": {
        "id": "xNiHuBgSKTT5"
      },
      "execution_count": 1,
      "outputs": []
    },
    {
      "cell_type": "code",
      "source": [
        "#Example 1. Keywords used: and, or, not, True, False\n",
        "a = True"
      ],
      "metadata": {
        "id": "4GbdogkyKi5o"
      },
      "execution_count": 2,
      "outputs": []
    },
    {
      "cell_type": "code",
      "source": [
        "b = False"
      ],
      "metadata": {
        "id": "VyreDdWtKjG4"
      },
      "execution_count": 3,
      "outputs": []
    },
    {
      "cell_type": "code",
      "source": [
        "if a and not b :\n",
        "  print(\"condition is True\")"
      ],
      "metadata": {
        "colab": {
          "base_uri": "https://localhost:8080/"
        },
        "id": "wUCF6to4KjRg",
        "outputId": "4a1795fb-94ac-4b63-c3f3-09f6d84e74f5"
      },
      "execution_count": 4,
      "outputs": [
        {
          "output_type": "stream",
          "name": "stdout",
          "text": [
            "condition is True\n"
          ]
        }
      ]
    },
    {
      "cell_type": "code",
      "source": [
        "#Example 2. Keywords used: if, elif, else\n"
      ],
      "metadata": {
        "id": "AClItw80LqG4"
      },
      "execution_count": 5,
      "outputs": []
    },
    {
      "cell_type": "code",
      "source": [
        "age = 18\n",
        "if age < 13:\n",
        "    print(\"Child\")\n",
        "elif age < 18:\n",
        "    print(\"Teenager\")\n",
        "else:\n",
        "    print(\"Adult\")"
      ],
      "metadata": {
        "colab": {
          "base_uri": "https://localhost:8080/"
        },
        "id": "uee_qj-wLqQQ",
        "outputId": "0ca8976d-a651-4393-f356-1c13ff84a6e7"
      },
      "execution_count": 6,
      "outputs": [
        {
          "output_type": "stream",
          "name": "stdout",
          "text": [
            "Adult\n"
          ]
        }
      ]
    },
    {
      "cell_type": "markdown",
      "source": [
        "###3. Compare and contrast mutable and immutable objects in Python with examples.\n",
        "\n",
        "-> Mutable\tobjects that can be changed after they are created. Mutability directly influences memory behavior, performance, and concurrency in Python. For example lists, dictionaries and  sets. While immutable\tobjects that cannot be changed once they are created. For example tuples,integers and strings.\n",
        "\n",
        "Mutable objects are efficient for tasks that involve frequent changes, such as appending to a list. Immutable objects are safer in situations where you want to ensure data doesnot get modified accidentally (e.g., keys in a dictionary).\n"
      ],
      "metadata": {
        "id": "8xod5hyn4_C2"
      }
    },
    {
      "cell_type": "code",
      "source": [
        "#Example 1: List (mutable)\n",
        "numbers = [1, 2, 3]\n",
        "numbers[0] = 40\n",
        "print(numbers)"
      ],
      "metadata": {
        "colab": {
          "base_uri": "https://localhost:8080/"
        },
        "id": "T_62Pek8Khb4",
        "outputId": "358ff29c-bee8-4e91-8ac9-712366be7055"
      },
      "execution_count": 7,
      "outputs": [
        {
          "output_type": "stream",
          "name": "stdout",
          "text": [
            "[40, 2, 3]\n"
          ]
        }
      ]
    },
    {
      "cell_type": "code",
      "source": [
        "#Example 2: String (immutable)\n",
        "text = \"hello\"\n",
        "text = text.upper()\n",
        "print(text)"
      ],
      "metadata": {
        "colab": {
          "base_uri": "https://localhost:8080/"
        },
        "id": "j5Yik0HuKhvp",
        "outputId": "3cf4c411-f693-466e-c691-0d7ed5868824"
      },
      "execution_count": 8,
      "outputs": [
        {
          "output_type": "stream",
          "name": "stdout",
          "text": [
            "HELLO\n"
          ]
        }
      ]
    },
    {
      "cell_type": "markdown",
      "source": [
        "###4. Discuss the different types of operators in Python and provide examples of how they are used.\n",
        "\n",
        "-> Operators are special symbols or keywords that are used to carry out specific actions on numbers or variables in Python expressions.\n",
        "\n",
        "The different types of operators are:\n",
        "\n",
        "(i) Arithmetic Operators (+, -, *, /)\n",
        "\n",
        "(ii) Comparison Operators (==, !=, <, >)\n",
        "\n",
        "(iii)Logical Operators (and, or, not)\n",
        "\n",
        "(iv)Bitwise Operators (& | ^ ~ << >>)\n",
        "\n",
        "(v)Assignment Operators (=, +=, -=, *=, /=)\n",
        "\n",
        "(vi)Membership Operators (in  , not in )\n",
        "\n",
        "(vii)Identity Operators (is  , is not)"
      ],
      "metadata": {
        "id": "aL_Ty8U483ld"
      }
    },
    {
      "cell_type": "code",
      "source": [
        "#Examples of Arithmetic operators"
      ],
      "metadata": {
        "id": "KrogR7dePJ6p"
      },
      "execution_count": 9,
      "outputs": []
    },
    {
      "cell_type": "code",
      "source": [
        "a = 7\n",
        "b = 5"
      ],
      "metadata": {
        "id": "nV5xnrpfPHPR"
      },
      "execution_count": 10,
      "outputs": []
    },
    {
      "cell_type": "code",
      "source": [
        "7+5 #addition"
      ],
      "metadata": {
        "colab": {
          "base_uri": "https://localhost:8080/"
        },
        "id": "jmXB1LceRhGL",
        "outputId": "c08eda3b-f254-4ec0-f2e9-648fe111d8a8"
      },
      "execution_count": 11,
      "outputs": [
        {
          "output_type": "execute_result",
          "data": {
            "text/plain": [
              "12"
            ]
          },
          "metadata": {},
          "execution_count": 11
        }
      ]
    },
    {
      "cell_type": "code",
      "source": [
        "subtract = (a-b)"
      ],
      "metadata": {
        "id": "bg8VAB-JRhBa"
      },
      "execution_count": 12,
      "outputs": []
    },
    {
      "cell_type": "code",
      "source": [
        "subtract"
      ],
      "metadata": {
        "colab": {
          "base_uri": "https://localhost:8080/"
        },
        "id": "rq79Cx2BRg-3",
        "outputId": "317c2e18-dcf5-4cf7-8886-a9936ee690cd"
      },
      "execution_count": 13,
      "outputs": [
        {
          "output_type": "execute_result",
          "data": {
            "text/plain": [
              "2"
            ]
          },
          "metadata": {},
          "execution_count": 13
        }
      ]
    },
    {
      "cell_type": "code",
      "source": [
        "7*5 #multiplication"
      ],
      "metadata": {
        "colab": {
          "base_uri": "https://localhost:8080/"
        },
        "id": "fg5zdKCuRg8R",
        "outputId": "541b6dc6-1149-4b1d-b791-bcdf9032d80a"
      },
      "execution_count": 14,
      "outputs": [
        {
          "output_type": "execute_result",
          "data": {
            "text/plain": [
              "35"
            ]
          },
          "metadata": {},
          "execution_count": 14
        }
      ]
    },
    {
      "cell_type": "code",
      "source": [
        "7/5 #division"
      ],
      "metadata": {
        "colab": {
          "base_uri": "https://localhost:8080/"
        },
        "id": "Lrs7ktI3Rg4n",
        "outputId": "a1f53754-5674-4226-f786-edece9ef3044"
      },
      "execution_count": 15,
      "outputs": [
        {
          "output_type": "execute_result",
          "data": {
            "text/plain": [
              "1.4"
            ]
          },
          "metadata": {},
          "execution_count": 15
        }
      ]
    },
    {
      "cell_type": "code",
      "source": [
        "#Example of Comparison Operators\n",
        "2==2"
      ],
      "metadata": {
        "colab": {
          "base_uri": "https://localhost:8080/"
        },
        "id": "_1vTaJALRg1v",
        "outputId": "ace6f631-7c73-42b1-e0f1-a416f9c27e34"
      },
      "execution_count": 16,
      "outputs": [
        {
          "output_type": "execute_result",
          "data": {
            "text/plain": [
              "True"
            ]
          },
          "metadata": {},
          "execution_count": 16
        }
      ]
    },
    {
      "cell_type": "code",
      "source": [
        "2!=2"
      ],
      "metadata": {
        "colab": {
          "base_uri": "https://localhost:8080/"
        },
        "id": "kgLYhymMRgwh",
        "outputId": "fa4ef75d-4f19-448f-8966-09f2b21d50bd"
      },
      "execution_count": 17,
      "outputs": [
        {
          "output_type": "execute_result",
          "data": {
            "text/plain": [
              "False"
            ]
          },
          "metadata": {},
          "execution_count": 17
        }
      ]
    },
    {
      "cell_type": "code",
      "source": [
        "2!=3"
      ],
      "metadata": {
        "colab": {
          "base_uri": "https://localhost:8080/"
        },
        "id": "NmuL68leRgtX",
        "outputId": "2874d060-5f98-4a77-ac3f-800abd9efaca"
      },
      "execution_count": 18,
      "outputs": [
        {
          "output_type": "execute_result",
          "data": {
            "text/plain": [
              "True"
            ]
          },
          "metadata": {},
          "execution_count": 18
        }
      ]
    },
    {
      "cell_type": "code",
      "source": [
        "2 == 2.1"
      ],
      "metadata": {
        "colab": {
          "base_uri": "https://localhost:8080/"
        },
        "id": "WQaUSnx2RgoI",
        "outputId": "4fcde482-6b94-4e11-f081-56a9d5f9186a"
      },
      "execution_count": 19,
      "outputs": [
        {
          "output_type": "execute_result",
          "data": {
            "text/plain": [
              "False"
            ]
          },
          "metadata": {},
          "execution_count": 19
        }
      ]
    },
    {
      "cell_type": "code",
      "source": [
        "#Example of Logical Operators\n",
        "#and\n",
        "#or\n",
        "True and True"
      ],
      "metadata": {
        "colab": {
          "base_uri": "https://localhost:8080/"
        },
        "id": "8UGV1AuvRgji",
        "outputId": "4ccaedfd-a29f-445c-dc5a-5c99b22b9e22"
      },
      "execution_count": 20,
      "outputs": [
        {
          "output_type": "execute_result",
          "data": {
            "text/plain": [
              "True"
            ]
          },
          "metadata": {},
          "execution_count": 20
        }
      ]
    },
    {
      "cell_type": "code",
      "source": [
        "True or False"
      ],
      "metadata": {
        "colab": {
          "base_uri": "https://localhost:8080/"
        },
        "id": "tPEw5fERRgfg",
        "outputId": "319f86ae-76d7-4115-b0ea-a7114fc613bb"
      },
      "execution_count": 21,
      "outputs": [
        {
          "output_type": "execute_result",
          "data": {
            "text/plain": [
              "True"
            ]
          },
          "metadata": {},
          "execution_count": 21
        }
      ]
    },
    {
      "cell_type": "code",
      "source": [
        "False or False"
      ],
      "metadata": {
        "colab": {
          "base_uri": "https://localhost:8080/"
        },
        "id": "jvQXfGsZRgbu",
        "outputId": "9ade1b20-55c3-4251-b9c1-eda6fc75a24b"
      },
      "execution_count": 22,
      "outputs": [
        {
          "output_type": "execute_result",
          "data": {
            "text/plain": [
              "False"
            ]
          },
          "metadata": {},
          "execution_count": 22
        }
      ]
    },
    {
      "cell_type": "code",
      "source": [
        "#Example of Assigenment Operators\n",
        "a=18\n",
        "b=15\n"
      ],
      "metadata": {
        "id": "9_b1W6MyRgYX"
      },
      "execution_count": 23,
      "outputs": []
    },
    {
      "cell_type": "code",
      "source": [
        "a"
      ],
      "metadata": {
        "colab": {
          "base_uri": "https://localhost:8080/"
        },
        "id": "LITiAAbxRgV-",
        "outputId": "c0e66aa7-f046-43e6-aa30-9e51c5b3dee9"
      },
      "execution_count": 24,
      "outputs": [
        {
          "output_type": "execute_result",
          "data": {
            "text/plain": [
              "18"
            ]
          },
          "metadata": {},
          "execution_count": 24
        }
      ]
    },
    {
      "cell_type": "code",
      "source": [
        "a + 6"
      ],
      "metadata": {
        "colab": {
          "base_uri": "https://localhost:8080/"
        },
        "id": "PRwPC3BnRgQv",
        "outputId": "d28e53c5-cada-4f6f-bc2d-b5e344a2cd7f"
      },
      "execution_count": 25,
      "outputs": [
        {
          "output_type": "execute_result",
          "data": {
            "text/plain": [
              "24"
            ]
          },
          "metadata": {},
          "execution_count": 25
        }
      ]
    },
    {
      "cell_type": "code",
      "source": [
        "b+5"
      ],
      "metadata": {
        "colab": {
          "base_uri": "https://localhost:8080/"
        },
        "id": "_uRfquEkRgOI",
        "outputId": "d9df8ebf-b099-4b02-ee11-430b992b5647"
      },
      "execution_count": 26,
      "outputs": [
        {
          "output_type": "execute_result",
          "data": {
            "text/plain": [
              "20"
            ]
          },
          "metadata": {},
          "execution_count": 26
        }
      ]
    },
    {
      "cell_type": "code",
      "source": [
        "b=8\n",
        "b+=10\n",
        "b"
      ],
      "metadata": {
        "colab": {
          "base_uri": "https://localhost:8080/"
        },
        "id": "8Mj9zVDQRgLm",
        "outputId": "470112d3-c90b-469f-ef1d-d655c1420c65"
      },
      "execution_count": 27,
      "outputs": [
        {
          "output_type": "execute_result",
          "data": {
            "text/plain": [
              "18"
            ]
          },
          "metadata": {},
          "execution_count": 27
        }
      ]
    },
    {
      "cell_type": "code",
      "source": [
        "b=5\n",
        "b*=3\n",
        "b"
      ],
      "metadata": {
        "colab": {
          "base_uri": "https://localhost:8080/"
        },
        "id": "8LclKqLkRfsP",
        "outputId": "2f01047e-3f16-4c70-9eeb-d95db22e3147"
      },
      "execution_count": 28,
      "outputs": [
        {
          "output_type": "execute_result",
          "data": {
            "text/plain": [
              "15"
            ]
          },
          "metadata": {},
          "execution_count": 28
        }
      ]
    },
    {
      "cell_type": "code",
      "source": [
        "b*=2\n",
        "b"
      ],
      "metadata": {
        "colab": {
          "base_uri": "https://localhost:8080/"
        },
        "id": "0h3iSJSzXAqG",
        "outputId": "89f2bfa2-a292-4ee9-fccd-5804ed06600b"
      },
      "execution_count": 29,
      "outputs": [
        {
          "output_type": "execute_result",
          "data": {
            "text/plain": [
              "30"
            ]
          },
          "metadata": {},
          "execution_count": 29
        }
      ]
    },
    {
      "cell_type": "code",
      "source": [
        "#Example of membership Operators\n",
        "a=\"apple\"\n",
        "\"e\" in a"
      ],
      "metadata": {
        "colab": {
          "base_uri": "https://localhost:8080/"
        },
        "id": "hn_XYJ80XAmL",
        "outputId": "27c70eca-cb7b-498c-e781-3773e926ed9a"
      },
      "execution_count": 30,
      "outputs": [
        {
          "output_type": "execute_result",
          "data": {
            "text/plain": [
              "True"
            ]
          },
          "metadata": {},
          "execution_count": 30
        }
      ]
    },
    {
      "cell_type": "code",
      "source": [
        "\"b\" not in a"
      ],
      "metadata": {
        "colab": {
          "base_uri": "https://localhost:8080/"
        },
        "id": "KJHVVRKtXAix",
        "outputId": "f53c4639-4d8c-4ddf-e9b7-5f6d64bbf2f5"
      },
      "execution_count": 31,
      "outputs": [
        {
          "output_type": "execute_result",
          "data": {
            "text/plain": [
              "True"
            ]
          },
          "metadata": {},
          "execution_count": 31
        }
      ]
    },
    {
      "cell_type": "code",
      "source": [
        "b = \"manisha\"\n",
        "\"i\" not in b"
      ],
      "metadata": {
        "colab": {
          "base_uri": "https://localhost:8080/"
        },
        "id": "6ag1cW3bXAf6",
        "outputId": "7dc8ff23-7024-404d-ff00-0634bbc26fa3"
      },
      "execution_count": 32,
      "outputs": [
        {
          "output_type": "execute_result",
          "data": {
            "text/plain": [
              "False"
            ]
          },
          "metadata": {},
          "execution_count": 32
        }
      ]
    },
    {
      "cell_type": "code",
      "source": [
        "#Example of Identity Operators\n",
        "a=10\n",
        "b=7\n",
        "a is b"
      ],
      "metadata": {
        "colab": {
          "base_uri": "https://localhost:8080/"
        },
        "id": "Ch0Q1726XAcM",
        "outputId": "5f7a2884-a956-418f-b7a4-29c5401af271"
      },
      "execution_count": 33,
      "outputs": [
        {
          "output_type": "execute_result",
          "data": {
            "text/plain": [
              "False"
            ]
          },
          "metadata": {},
          "execution_count": 33
        }
      ]
    },
    {
      "cell_type": "code",
      "source": [
        "a is not b"
      ],
      "metadata": {
        "colab": {
          "base_uri": "https://localhost:8080/"
        },
        "id": "VZOFh0LGXAZo",
        "outputId": "fe33933b-5868-4834-c2d4-c98527e975fa"
      },
      "execution_count": 34,
      "outputs": [
        {
          "output_type": "execute_result",
          "data": {
            "text/plain": [
              "True"
            ]
          },
          "metadata": {},
          "execution_count": 34
        }
      ]
    },
    {
      "cell_type": "code",
      "source": [
        "#Example of bitwise Operators\n",
        "10 & 10\n"
      ],
      "metadata": {
        "colab": {
          "base_uri": "https://localhost:8080/"
        },
        "id": "LZIU4TbJXAW5",
        "outputId": "102e32ce-7560-4725-fa88-63b31da4bb66"
      },
      "execution_count": 35,
      "outputs": [
        {
          "output_type": "execute_result",
          "data": {
            "text/plain": [
              "10"
            ]
          },
          "metadata": {},
          "execution_count": 35
        }
      ]
    },
    {
      "cell_type": "code",
      "source": [
        "18 & 3"
      ],
      "metadata": {
        "colab": {
          "base_uri": "https://localhost:8080/"
        },
        "id": "sKhZB6TpXAUK",
        "outputId": "319d3878-4fb3-4e5d-aaad-5801ca541261"
      },
      "execution_count": 36,
      "outputs": [
        {
          "output_type": "execute_result",
          "data": {
            "text/plain": [
              "2"
            ]
          },
          "metadata": {},
          "execution_count": 36
        }
      ]
    },
    {
      "cell_type": "code",
      "source": [
        "3|5"
      ],
      "metadata": {
        "colab": {
          "base_uri": "https://localhost:8080/"
        },
        "id": "LmGpRl2vXARy",
        "outputId": "6820f3c0-d312-48a8-9b2f-66ea24b3ce07"
      },
      "execution_count": 37,
      "outputs": [
        {
          "output_type": "execute_result",
          "data": {
            "text/plain": [
              "7"
            ]
          },
          "metadata": {},
          "execution_count": 37
        }
      ]
    },
    {
      "cell_type": "markdown",
      "source": [
        "### 5.Explain the concept of type casting in Python with examples."
      ],
      "metadata": {
        "id": "s2mZevJQb5P-"
      }
    },
    {
      "cell_type": "markdown",
      "source": [
        "->Type casting refers to the process of converting one data type into another. In Python, this is also known as type conversion.\n",
        "\n",
        "There are two types of type casting:\n",
        "\n",
        "- Implicit Type Casting\n",
        "\n",
        "- Explicit Type Casting\n",
        "\n",
        "Python provides built-in functions for type casting, such as int(), float(), str(), list(), tuple(), dict(), etc.\n",
        "Type casting is often necessary for performing arithmetic operations, data manipulation, and input/output operations in Python programs."
      ],
      "metadata": {
        "id": "PUa9aRaDcHj_"
      }
    },
    {
      "cell_type": "code",
      "source": [
        "#Example 1. Example of Implicit Type Casting\n",
        "a = 5\n",
        "b = 2.0\n",
        "result = a + b\n",
        "print(result)"
      ],
      "metadata": {
        "colab": {
          "base_uri": "https://localhost:8080/"
        },
        "id": "Y3BdBCAMdFKm",
        "outputId": "a670baea-d546-4dce-f77f-c93f38ba70c4"
      },
      "execution_count": 38,
      "outputs": [
        {
          "output_type": "stream",
          "name": "stdout",
          "text": [
            "7.0\n"
          ]
        }
      ]
    },
    {
      "cell_type": "code",
      "source": [
        "print(type(result))"
      ],
      "metadata": {
        "colab": {
          "base_uri": "https://localhost:8080/"
        },
        "id": "mCiD5aHtdmwF",
        "outputId": "c8dc6f0d-e0b2-4db3-b84e-d1836d4072d9"
      },
      "execution_count": 39,
      "outputs": [
        {
          "output_type": "stream",
          "name": "stdout",
          "text": [
            "<class 'float'>\n"
          ]
        }
      ]
    },
    {
      "cell_type": "code",
      "source": [
        "#Example 2.\n",
        "a=\"2\"\n",
        "print(type(a))\n",
        "print(type(int(a)))"
      ],
      "metadata": {
        "colab": {
          "base_uri": "https://localhost:8080/"
        },
        "id": "wjvHMgrHdmqm",
        "outputId": "15335156-d24f-4ddd-bf1b-35e49c19e420"
      },
      "execution_count": 40,
      "outputs": [
        {
          "output_type": "stream",
          "name": "stdout",
          "text": [
            "<class 'str'>\n",
            "<class 'int'>\n"
          ]
        }
      ]
    },
    {
      "cell_type": "code",
      "source": [
        "#Example 3. float to integer (Example of Explicit Type Casting)\n",
        "x = 9.8\n",
        "y = int(x)\n",
        "print(y)"
      ],
      "metadata": {
        "colab": {
          "base_uri": "https://localhost:8080/"
        },
        "id": "sfLfUn7LuYaW",
        "outputId": "034bb247-479b-4076-c700-3d41f2b50060"
      },
      "execution_count": 41,
      "outputs": [
        {
          "output_type": "stream",
          "name": "stdout",
          "text": [
            "9\n"
          ]
        }
      ]
    },
    {
      "cell_type": "code",
      "source": [
        "type(y)"
      ],
      "metadata": {
        "colab": {
          "base_uri": "https://localhost:8080/"
        },
        "id": "g1YDvaHhuYRt",
        "outputId": "b99c11d4-e255-4463-b8e6-7a3485065ca5"
      },
      "execution_count": 42,
      "outputs": [
        {
          "output_type": "execute_result",
          "data": {
            "text/plain": [
              "int"
            ]
          },
          "metadata": {},
          "execution_count": 42
        }
      ]
    },
    {
      "cell_type": "code",
      "source": [
        "a=\" manisha \"\n",
        "b=\" bala \"\n",
        "a+b #concatenation of string"
      ],
      "metadata": {
        "colab": {
          "base_uri": "https://localhost:8080/",
          "height": 35
        },
        "id": "6OrEuCzjurms",
        "outputId": "dd18a1dc-37e2-41f8-aa12-31a82b9b77ab"
      },
      "execution_count": 43,
      "outputs": [
        {
          "output_type": "execute_result",
          "data": {
            "text/plain": [
              "' manisha  bala '"
            ],
            "application/vnd.google.colaboratory.intrinsic+json": {
              "type": "string"
            }
          },
          "metadata": {},
          "execution_count": 43
        }
      ]
    },
    {
      "cell_type": "markdown",
      "source": [
        "###6.How do conditional statements work in Python? Illustrate with examples.\n",
        "\n",
        "-> Conditionals in Python are used to execute code based on the evaluation of\n",
        " one or more conditions.\n",
        "\n",
        " Python supports conditional statements such as if, elif (else if), and else to control the flow of execution.\n",
        " Conditionals can be nested to handle multiple conditions and control different branches of execution based on the outcome of logical expressions."
      ],
      "metadata": {
        "id": "T_tmValUb9gH"
      }
    },
    {
      "cell_type": "code",
      "source": [
        "#Conditional statement\n",
        "#if\n",
        "#if else\n",
        "#if elif(elseif) else\n",
        "#nested if else"
      ],
      "metadata": {
        "id": "JbQCx2PjwoIz"
      },
      "execution_count": 44,
      "outputs": []
    },
    {
      "cell_type": "code",
      "source": [
        "#Example 1. if statement\n",
        "\n",
        "age = 13\n",
        "if age < 18:\n",
        "    print(\"You are minority.\")"
      ],
      "metadata": {
        "colab": {
          "base_uri": "https://localhost:8080/"
        },
        "id": "EQce8L_OwpGk",
        "outputId": "9af6d68a-f67f-484b-df94-a68c02c52979"
      },
      "execution_count": 45,
      "outputs": [
        {
          "output_type": "stream",
          "name": "stdout",
          "text": [
            "You are minority.\n"
          ]
        }
      ]
    },
    {
      "cell_type": "code",
      "source": [
        "#Example 2. if-else Statement\n",
        "\n",
        "marks = 90\n",
        "if marks >= 50:\n",
        "    print(\"You passed.\")\n",
        "else:\n",
        "    print(\"You failed.\")"
      ],
      "metadata": {
        "colab": {
          "base_uri": "https://localhost:8080/"
        },
        "id": "e-K3me1GwpD3",
        "outputId": "d023de17-3584-4c6a-80b6-cc0b0576b25d"
      },
      "execution_count": 46,
      "outputs": [
        {
          "output_type": "stream",
          "name": "stdout",
          "text": [
            "You passed.\n"
          ]
        }
      ]
    },
    {
      "cell_type": "code",
      "source": [
        "#Example3. if-elif-else Statement\n",
        "\n",
        "score = 55\n",
        "\n",
        "if score >= 90:\n",
        "    print(\"Grade A\")\n",
        "elif score >= 75:\n",
        "    print(\"Grade B\")\n",
        "elif score >= 60:\n",
        "    print(\"Grade C\")\n",
        "else:\n",
        "    print(\"Grade F\")\n",
        "\n"
      ],
      "metadata": {
        "colab": {
          "base_uri": "https://localhost:8080/"
        },
        "id": "ZusTasjnwpBE",
        "outputId": "c2af54c7-a0e0-43cb-abd8-1f5e74e5970a"
      },
      "execution_count": 47,
      "outputs": [
        {
          "output_type": "stream",
          "name": "stdout",
          "text": [
            "Grade F\n"
          ]
        }
      ]
    },
    {
      "cell_type": "code",
      "source": [
        "#Example Nested if Statement\n",
        "x = 9\n",
        "y = 5\n",
        "\n",
        "if x > 0:\n",
        "    if y > 0:\n",
        "        print(\"Both numbers are positive.\")"
      ],
      "metadata": {
        "colab": {
          "base_uri": "https://localhost:8080/"
        },
        "id": "p6GT0CDm0Zor",
        "outputId": "3326bb86-f3a0-44de-88c6-4a9006cb14c0"
      },
      "execution_count": 48,
      "outputs": [
        {
          "output_type": "stream",
          "name": "stdout",
          "text": [
            "Both numbers are positive.\n"
          ]
        }
      ]
    },
    {
      "cell_type": "markdown",
      "source": [
        "###7. Describe the different types of loops in Python and their use cases with examples.\n",
        "\n",
        "-> In Python, loops are employed to repeat a sequence of actions or code until a specific condition is fulfilled.\n",
        "\n",
        "Python offers two primary types of loops:\n",
        "- for loops\n",
        "- while loops.\n",
        "\n",
        "“for” loops are used for iterating over a sequence of elements, while “while” loops are used for executing code until a specified condition becomes false or repeatedly executed a block of code until a condition is met."
      ],
      "metadata": {
        "id": "E0FmTQF2X6r5"
      }
    },
    {
      "cell_type": "code",
      "source": [
        "#Example of while loop\n",
        "\n",
        "n = 10\n",
        "i = 1\n",
        "while i <= n:\n",
        "  print(i)\n",
        "  i=i+1"
      ],
      "metadata": {
        "colab": {
          "base_uri": "https://localhost:8080/"
        },
        "id": "JbVa1LgR2Nns",
        "outputId": "fd5fbae1-7582-4976-9b96-5a8740653874"
      },
      "execution_count": 49,
      "outputs": [
        {
          "output_type": "stream",
          "name": "stdout",
          "text": [
            "1\n",
            "2\n",
            "3\n",
            "4\n",
            "5\n",
            "6\n",
            "7\n",
            "8\n",
            "9\n",
            "10\n"
          ]
        }
      ]
    },
    {
      "cell_type": "code",
      "source": [
        "# Example for for loop\n",
        "\n",
        "for i in \"manisha\":\n",
        "  print(i)"
      ],
      "metadata": {
        "colab": {
          "base_uri": "https://localhost:8080/"
        },
        "id": "9VMrzX-T2OHm",
        "outputId": "f46d6331-8485-4ea7-ce3d-ec71c70e07b8"
      },
      "execution_count": 50,
      "outputs": [
        {
          "output_type": "stream",
          "name": "stdout",
          "text": [
            "m\n",
            "a\n",
            "n\n",
            "i\n",
            "s\n",
            "h\n",
            "a\n"
          ]
        }
      ]
    },
    {
      "cell_type": "code",
      "source": [
        "# print a right triangle with * using for loop\n",
        "for i in range(4):\n",
        "    for j in range (i+1):\n",
        "          print(\"*\", end = \" \")\n",
        "    print()"
      ],
      "metadata": {
        "colab": {
          "base_uri": "https://localhost:8080/"
        },
        "id": "8WVBvpV82N_D",
        "outputId": "8a80029a-81bb-476f-a0b3-23ec68ebef3c"
      },
      "execution_count": 51,
      "outputs": [
        {
          "output_type": "stream",
          "name": "stdout",
          "text": [
            "* \n",
            "* * \n",
            "* * * \n",
            "* * * * \n"
          ]
        }
      ]
    }
  ]
}